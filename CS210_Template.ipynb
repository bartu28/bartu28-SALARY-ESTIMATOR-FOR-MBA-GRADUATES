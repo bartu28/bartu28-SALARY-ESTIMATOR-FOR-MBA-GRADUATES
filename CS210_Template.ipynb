{
  "nbformat": 4,
  "nbformat_minor": 0,
  "metadata": {
    "colab": {
      "name": "CS210 Template.ipynb",
      "provenance": [],
      "collapsed_sections": []
    },
    "kernelspec": {
      "name": "python3",
      "display_name": "Python 3"
    }
  },
  "cells": [
    {
      "cell_type": "markdown",
      "metadata": {
        "id": "U1cEBB9946EO"
      },
      "source": [
        "<font color=\"red\">IMPORTANT</font>\n",
        "\n",
        "<font color=\"red\">This is just a template for your project reports. You do not have to use the exact structure here. You may add your own sections/subsections. However, you are required to preserve the same report flow.</font>"
      ]
    },
    {
      "cell_type": "markdown",
      "metadata": {
        "id": "tPdlcstH11mU"
      },
      "source": [
        "# SALARY ESTIMATOR FOR MBA GRADUATES  - Group 36\n",
        "\n",
        "Group Members:\n",
        "\n",
        "Ural Sarp Sipahi\n",
        "\n",
        "Bartu Doğan\n",
        "\n",
        "Muammer Tunahan Yıldız\n",
        "\n",
        "Egemen Aydın\n",
        "\n",
        "Rıza Lider Büyükçanak\n",
        "\n"
      ]
    },
    {
      "cell_type": "code",
      "metadata": {
        "id": "HIVJ-o0R7iQ0",
        "colab": {
          "base_uri": "https://localhost:8080/",
          "height": 122
        },
        "outputId": "c8a1d886-a2fe-4070-89bb-3be39864ef1c"
      },
      "source": [
        "# Egemen:  Üstünkörü, proposaldakiyle aynı olmasın diye yazdım. dursun diye öyle.\n",
        "\n",
        "\"\"\"(1) a high-quality introduction on what you are doing, why you are doing it\n",
        "\n",
        "-\tWe are developing a machine Learning program that takes parameters(features) from the user as input and\n",
        "\tgive an estimate salary expectation for given feature values. The reason we are doing this program is\n",
        "\tbeing able to have an opinion and understanding on the criterias that affect MBA graduates salaries.\n",
        "\tAlso determining the criterias that affect the final salary most and the least.\n",
        "\n",
        "(2) a clear description of the datasets you have used\n",
        "\n",
        "-\tWe used the Campus Recruitment dataset. The dataset includes the percentages of each individual students at \n",
        "\t10th and 12th grade (high-school) with their specilizations. Moreover, dataset provides us students Undergraduate\n",
        "\tdegree specilziation and its percentage (GPA) too. MBA specilization and GPA is included in the dataset either.\n",
        "\tIn the dataset despite students academic features, genders and wether they have work experience or not\n",
        "\tare specified too. Lastly, Employibility test scores which are conducted by colleges, and information of \n",
        "\twhether the person is placed into a job or not, and if they are placed, their salaries.\"\"\""
      ],
      "execution_count": null,
      "outputs": [
        {
          "output_type": "execute_result",
          "data": {
            "application/vnd.google.colaboratory.intrinsic+json": {
              "type": "string"
            },
            "text/plain": [
              "'(1) a high-quality introduction on what you are doing, why you are doing it\\n\\n-\\tWe are developing a machine Learning program that takes parameters(features) from the user as input and\\n\\tgive an estimate salary expectation for given feature valeus. The reason we are doing this program is\\n\\tbeing able to have an opinion and understanding on the criterias that affect MBA garaduates salaries.\\n\\tAlso determining the criterias that affect the final salary most and the least.\\n\\n(2) a clear description of the datasets you have used\\n\\n-\\tWe used the Campus Recruitment dataset. The dataset includes the percentages of each individual students at \\n\\t10th and 12th grade (high-school) with their specilizations. Moreover, dataset provides us students Undergraduate\\n\\tdegree specilziation and its percentage (GPA) too. MBA specilization and GPA is included in the dataset either.\\n\\tIn the dataset despite students academic features, genders and wether they have work experience or not\\n\\tare specified too. Lastly, Employibility test scores which are conducted by colleges, and information of \\n\\twether the person is placed into a job or not, and if they are palced, their salaries.'"
            ]
          },
          "metadata": {},
          "execution_count": 277
        }
      ]
    },
    {
      "cell_type": "markdown",
      "metadata": {
        "id": "B1iB4MSX3-6L"
      },
      "source": [
        "## Introduction\n",
        "\n",
        "<font color=\"blue\">\n",
        "Main goal of this project is to create a Machine Learning program that is trained\n",
        "with various data collected from the campus recruitment dataset in order to\n",
        "estimate the salaries of Master of Business Administration graduates as\n",
        "accurately as possible.\n",
        "</font>"
      ]
    },
    {
      "cell_type": "markdown",
      "metadata": {
        "id": "B2omK2BI4KyB"
      },
      "source": [
        "### Problem Definition\n",
        "\n",
        "<font color=\"blue\">\n",
        "State your problem in technical terms. What is your end goal? How are you going to solve it?\n",
        "\n",
        "\n",
        "</font>"
      ]
    },
    {
      "cell_type": "markdown",
      "metadata": {
        "id": "ZjWMWVoA4NcV"
      },
      "source": [
        "### Utilized Datasets\n",
        "\n",
        "<font color=\"blue\">\n",
        "Describe the utilized datasets in detail. Provide the data source (links if possible), number of obervations, data types, display the distributions of various variables and plot figures that helps reader understand what you are dealing with.\n",
        "</font>\n",
        "\n",
        "\n",
        "https://www.kaggle.com/benroshan/factors-affecting-campus-placement\n"
      ]
    },
    {
      "cell_type": "code",
      "metadata": {
        "colab": {
          "base_uri": "https://localhost:8080/"
        },
        "id": "g-rtvSyEMStH",
        "outputId": "d524d275-356b-423b-f9da-52f59a6d625a"
      },
      "source": [
        "from google.colab import drive\n",
        "drive.mount('./drive', force_remount=True)\n",
        "\n",
        "path_prefix = './drive/My Drive'"
      ],
      "execution_count": null,
      "outputs": [
        {
          "output_type": "stream",
          "name": "stdout",
          "text": [
            "Mounted at ./drive\n"
          ]
        }
      ]
    },
    {
      "cell_type": "code",
      "metadata": {
        "id": "anar2E4zMsqu"
      },
      "source": [
        "# Libraries that we may use in the future: \n",
        "import pandas as pd \n",
        "import numpy as np\n",
        "import matplotlib.pyplot as plt\n",
        "from os.path import join\n",
        "import json\n",
        "import seaborn as sns\n",
        "import sys\n",
        "import warnings\n",
        "if not sys.warnoptions:\n",
        "    warnings.simplefilter(\"ignore\")\n",
        "%matplotlib inline"
      ],
      "execution_count": null,
      "outputs": []
    },
    {
      "cell_type": "markdown",
      "metadata": {
        "id": "sj27WnvPEE_Q"
      },
      "source": [
        "Campus Recruitment Dataset"
      ]
    },
    {
      "cell_type": "code",
      "metadata": {
        "colab": {
          "base_uri": "https://localhost:8080/",
          "height": 143
        },
        "id": "cfeIUpbEM0UG",
        "outputId": "326e423c-2546-4e15-f059-8f3eb6bab12d"
      },
      "source": [
        "fname = 'Placement_Data_Full_Class.csv'\n",
        "df = pd.read_csv(join(path_prefix, fname))\n",
        "df.head(3)"
      ],
      "execution_count": null,
      "outputs": [
        {
          "output_type": "execute_result",
          "data": {
            "text/html": [
              "<div>\n",
              "<style scoped>\n",
              "    .dataframe tbody tr th:only-of-type {\n",
              "        vertical-align: middle;\n",
              "    }\n",
              "\n",
              "    .dataframe tbody tr th {\n",
              "        vertical-align: top;\n",
              "    }\n",
              "\n",
              "    .dataframe thead th {\n",
              "        text-align: right;\n",
              "    }\n",
              "</style>\n",
              "<table border=\"1\" class=\"dataframe\">\n",
              "  <thead>\n",
              "    <tr style=\"text-align: right;\">\n",
              "      <th></th>\n",
              "      <th>sl_no</th>\n",
              "      <th>gender</th>\n",
              "      <th>ssc_p</th>\n",
              "      <th>ssc_b</th>\n",
              "      <th>hsc_p</th>\n",
              "      <th>hsc_b</th>\n",
              "      <th>hsc_s</th>\n",
              "      <th>degree_p</th>\n",
              "      <th>degree_t</th>\n",
              "      <th>workex</th>\n",
              "      <th>etest_p</th>\n",
              "      <th>specialisation</th>\n",
              "      <th>mba_p</th>\n",
              "      <th>status</th>\n",
              "      <th>salary</th>\n",
              "    </tr>\n",
              "  </thead>\n",
              "  <tbody>\n",
              "    <tr>\n",
              "      <th>0</th>\n",
              "      <td>1</td>\n",
              "      <td>M</td>\n",
              "      <td>67.00</td>\n",
              "      <td>Others</td>\n",
              "      <td>91.00</td>\n",
              "      <td>Others</td>\n",
              "      <td>Commerce</td>\n",
              "      <td>58.00</td>\n",
              "      <td>Sci&amp;Tech</td>\n",
              "      <td>No</td>\n",
              "      <td>55.0</td>\n",
              "      <td>Mkt&amp;HR</td>\n",
              "      <td>58.80</td>\n",
              "      <td>Placed</td>\n",
              "      <td>270000.0</td>\n",
              "    </tr>\n",
              "    <tr>\n",
              "      <th>1</th>\n",
              "      <td>2</td>\n",
              "      <td>M</td>\n",
              "      <td>79.33</td>\n",
              "      <td>Central</td>\n",
              "      <td>78.33</td>\n",
              "      <td>Others</td>\n",
              "      <td>Science</td>\n",
              "      <td>77.48</td>\n",
              "      <td>Sci&amp;Tech</td>\n",
              "      <td>Yes</td>\n",
              "      <td>86.5</td>\n",
              "      <td>Mkt&amp;Fin</td>\n",
              "      <td>66.28</td>\n",
              "      <td>Placed</td>\n",
              "      <td>200000.0</td>\n",
              "    </tr>\n",
              "    <tr>\n",
              "      <th>2</th>\n",
              "      <td>3</td>\n",
              "      <td>M</td>\n",
              "      <td>65.00</td>\n",
              "      <td>Central</td>\n",
              "      <td>68.00</td>\n",
              "      <td>Central</td>\n",
              "      <td>Arts</td>\n",
              "      <td>64.00</td>\n",
              "      <td>Comm&amp;Mgmt</td>\n",
              "      <td>No</td>\n",
              "      <td>75.0</td>\n",
              "      <td>Mkt&amp;Fin</td>\n",
              "      <td>57.80</td>\n",
              "      <td>Placed</td>\n",
              "      <td>250000.0</td>\n",
              "    </tr>\n",
              "  </tbody>\n",
              "</table>\n",
              "</div>"
            ],
            "text/plain": [
              "   sl_no gender  ssc_p    ssc_b  ...  specialisation  mba_p  status    salary\n",
              "0      1      M  67.00   Others  ...          Mkt&HR  58.80  Placed  270000.0\n",
              "1      2      M  79.33  Central  ...         Mkt&Fin  66.28  Placed  200000.0\n",
              "2      3      M  65.00  Central  ...         Mkt&Fin  57.80  Placed  250000.0\n",
              "\n",
              "[3 rows x 15 columns]"
            ]
          },
          "metadata": {},
          "execution_count": 280
        }
      ]
    },
    {
      "cell_type": "markdown",
      "metadata": {
        "id": "bpPslpx_ENjO"
      },
      "source": [
        "Data cleaning by dropping the rows with null values"
      ]
    },
    {
      "cell_type": "code",
      "metadata": {
        "id": "EuxmDUWuUGo3"
      },
      "source": [
        "df2=df[df['salary'].isnull()]\n",
        "df = df.dropna() #df doesnt contain missing values.\n",
        "#df2.head(3)      df2 only contains rows that have salary NaN."
      ],
      "execution_count": null,
      "outputs": []
    },
    {
      "cell_type": "code",
      "metadata": {
        "colab": {
          "base_uri": "https://localhost:8080/",
          "height": 143
        },
        "id": "DC1cteudVCXc",
        "outputId": "720db629-e74b-4523-a62e-db2c9387bd84"
      },
      "source": [
        "df.head(3)"
      ],
      "execution_count": null,
      "outputs": [
        {
          "output_type": "execute_result",
          "data": {
            "text/html": [
              "<div>\n",
              "<style scoped>\n",
              "    .dataframe tbody tr th:only-of-type {\n",
              "        vertical-align: middle;\n",
              "    }\n",
              "\n",
              "    .dataframe tbody tr th {\n",
              "        vertical-align: top;\n",
              "    }\n",
              "\n",
              "    .dataframe thead th {\n",
              "        text-align: right;\n",
              "    }\n",
              "</style>\n",
              "<table border=\"1\" class=\"dataframe\">\n",
              "  <thead>\n",
              "    <tr style=\"text-align: right;\">\n",
              "      <th></th>\n",
              "      <th>sl_no</th>\n",
              "      <th>gender</th>\n",
              "      <th>ssc_p</th>\n",
              "      <th>ssc_b</th>\n",
              "      <th>hsc_p</th>\n",
              "      <th>hsc_b</th>\n",
              "      <th>hsc_s</th>\n",
              "      <th>degree_p</th>\n",
              "      <th>degree_t</th>\n",
              "      <th>workex</th>\n",
              "      <th>etest_p</th>\n",
              "      <th>specialisation</th>\n",
              "      <th>mba_p</th>\n",
              "      <th>status</th>\n",
              "      <th>salary</th>\n",
              "    </tr>\n",
              "  </thead>\n",
              "  <tbody>\n",
              "    <tr>\n",
              "      <th>0</th>\n",
              "      <td>1</td>\n",
              "      <td>M</td>\n",
              "      <td>67.00</td>\n",
              "      <td>Others</td>\n",
              "      <td>91.00</td>\n",
              "      <td>Others</td>\n",
              "      <td>Commerce</td>\n",
              "      <td>58.00</td>\n",
              "      <td>Sci&amp;Tech</td>\n",
              "      <td>No</td>\n",
              "      <td>55.0</td>\n",
              "      <td>Mkt&amp;HR</td>\n",
              "      <td>58.80</td>\n",
              "      <td>Placed</td>\n",
              "      <td>270000.0</td>\n",
              "    </tr>\n",
              "    <tr>\n",
              "      <th>1</th>\n",
              "      <td>2</td>\n",
              "      <td>M</td>\n",
              "      <td>79.33</td>\n",
              "      <td>Central</td>\n",
              "      <td>78.33</td>\n",
              "      <td>Others</td>\n",
              "      <td>Science</td>\n",
              "      <td>77.48</td>\n",
              "      <td>Sci&amp;Tech</td>\n",
              "      <td>Yes</td>\n",
              "      <td>86.5</td>\n",
              "      <td>Mkt&amp;Fin</td>\n",
              "      <td>66.28</td>\n",
              "      <td>Placed</td>\n",
              "      <td>200000.0</td>\n",
              "    </tr>\n",
              "    <tr>\n",
              "      <th>2</th>\n",
              "      <td>3</td>\n",
              "      <td>M</td>\n",
              "      <td>65.00</td>\n",
              "      <td>Central</td>\n",
              "      <td>68.00</td>\n",
              "      <td>Central</td>\n",
              "      <td>Arts</td>\n",
              "      <td>64.00</td>\n",
              "      <td>Comm&amp;Mgmt</td>\n",
              "      <td>No</td>\n",
              "      <td>75.0</td>\n",
              "      <td>Mkt&amp;Fin</td>\n",
              "      <td>57.80</td>\n",
              "      <td>Placed</td>\n",
              "      <td>250000.0</td>\n",
              "    </tr>\n",
              "  </tbody>\n",
              "</table>\n",
              "</div>"
            ],
            "text/plain": [
              "   sl_no gender  ssc_p    ssc_b  ...  specialisation  mba_p  status    salary\n",
              "0      1      M  67.00   Others  ...          Mkt&HR  58.80  Placed  270000.0\n",
              "1      2      M  79.33  Central  ...         Mkt&Fin  66.28  Placed  200000.0\n",
              "2      3      M  65.00  Central  ...         Mkt&Fin  57.80  Placed  250000.0\n",
              "\n",
              "[3 rows x 15 columns]"
            ]
          },
          "metadata": {},
          "execution_count": 282
        }
      ]
    },
    {
      "cell_type": "code",
      "metadata": {
        "colab": {
          "base_uri": "https://localhost:8080/",
          "height": 300
        },
        "id": "5S9NimQO42D-",
        "outputId": "276f498b-16e1-48b9-b4b9-9c0000f1728e"
      },
      "source": [
        "df3 = df.copy() # egemen: df with students without salaries.\n",
        "\n",
        "df3 = df3.dropna(axis=\"index\", how=\"any\")\n",
        "\n",
        "df3.describe()"
      ],
      "execution_count": null,
      "outputs": [
        {
          "output_type": "execute_result",
          "data": {
            "text/html": [
              "<div>\n",
              "<style scoped>\n",
              "    .dataframe tbody tr th:only-of-type {\n",
              "        vertical-align: middle;\n",
              "    }\n",
              "\n",
              "    .dataframe tbody tr th {\n",
              "        vertical-align: top;\n",
              "    }\n",
              "\n",
              "    .dataframe thead th {\n",
              "        text-align: right;\n",
              "    }\n",
              "</style>\n",
              "<table border=\"1\" class=\"dataframe\">\n",
              "  <thead>\n",
              "    <tr style=\"text-align: right;\">\n",
              "      <th></th>\n",
              "      <th>sl_no</th>\n",
              "      <th>ssc_p</th>\n",
              "      <th>hsc_p</th>\n",
              "      <th>degree_p</th>\n",
              "      <th>etest_p</th>\n",
              "      <th>mba_p</th>\n",
              "      <th>salary</th>\n",
              "    </tr>\n",
              "  </thead>\n",
              "  <tbody>\n",
              "    <tr>\n",
              "      <th>count</th>\n",
              "      <td>148.000000</td>\n",
              "      <td>148.000000</td>\n",
              "      <td>148.000000</td>\n",
              "      <td>148.000000</td>\n",
              "      <td>148.000000</td>\n",
              "      <td>148.000000</td>\n",
              "      <td>148.000000</td>\n",
              "    </tr>\n",
              "    <tr>\n",
              "      <th>mean</th>\n",
              "      <td>106.878378</td>\n",
              "      <td>71.721486</td>\n",
              "      <td>69.926554</td>\n",
              "      <td>68.740541</td>\n",
              "      <td>73.238041</td>\n",
              "      <td>62.579392</td>\n",
              "      <td>288655.405405</td>\n",
              "    </tr>\n",
              "    <tr>\n",
              "      <th>std</th>\n",
              "      <td>60.682502</td>\n",
              "      <td>8.715445</td>\n",
              "      <td>9.329268</td>\n",
              "      <td>6.518087</td>\n",
              "      <td>13.729333</td>\n",
              "      <td>5.884583</td>\n",
              "      <td>93457.452420</td>\n",
              "    </tr>\n",
              "    <tr>\n",
              "      <th>min</th>\n",
              "      <td>1.000000</td>\n",
              "      <td>49.000000</td>\n",
              "      <td>50.830000</td>\n",
              "      <td>56.000000</td>\n",
              "      <td>50.000000</td>\n",
              "      <td>52.380000</td>\n",
              "      <td>200000.000000</td>\n",
              "    </tr>\n",
              "    <tr>\n",
              "      <th>25%</th>\n",
              "      <td>57.750000</td>\n",
              "      <td>65.000000</td>\n",
              "      <td>63.000000</td>\n",
              "      <td>65.000000</td>\n",
              "      <td>60.000000</td>\n",
              "      <td>57.772500</td>\n",
              "      <td>240000.000000</td>\n",
              "    </tr>\n",
              "    <tr>\n",
              "      <th>50%</th>\n",
              "      <td>108.500000</td>\n",
              "      <td>72.500000</td>\n",
              "      <td>68.000000</td>\n",
              "      <td>68.000000</td>\n",
              "      <td>72.000000</td>\n",
              "      <td>62.245000</td>\n",
              "      <td>265000.000000</td>\n",
              "    </tr>\n",
              "    <tr>\n",
              "      <th>75%</th>\n",
              "      <td>153.250000</td>\n",
              "      <td>78.125000</td>\n",
              "      <td>75.250000</td>\n",
              "      <td>72.422500</td>\n",
              "      <td>85.000000</td>\n",
              "      <td>66.760000</td>\n",
              "      <td>300000.000000</td>\n",
              "    </tr>\n",
              "    <tr>\n",
              "      <th>max</th>\n",
              "      <td>214.000000</td>\n",
              "      <td>89.400000</td>\n",
              "      <td>97.700000</td>\n",
              "      <td>91.000000</td>\n",
              "      <td>98.000000</td>\n",
              "      <td>77.890000</td>\n",
              "      <td>940000.000000</td>\n",
              "    </tr>\n",
              "  </tbody>\n",
              "</table>\n",
              "</div>"
            ],
            "text/plain": [
              "            sl_no       ssc_p  ...       mba_p         salary\n",
              "count  148.000000  148.000000  ...  148.000000     148.000000\n",
              "mean   106.878378   71.721486  ...   62.579392  288655.405405\n",
              "std     60.682502    8.715445  ...    5.884583   93457.452420\n",
              "min      1.000000   49.000000  ...   52.380000  200000.000000\n",
              "25%     57.750000   65.000000  ...   57.772500  240000.000000\n",
              "50%    108.500000   72.500000  ...   62.245000  265000.000000\n",
              "75%    153.250000   78.125000  ...   66.760000  300000.000000\n",
              "max    214.000000   89.400000  ...   77.890000  940000.000000\n",
              "\n",
              "[8 rows x 7 columns]"
            ]
          },
          "metadata": {},
          "execution_count": 283
        }
      ]
    },
    {
      "cell_type": "markdown",
      "metadata": {
        "id": "aIWBZcpPF73X"
      },
      "source": [
        "Feature generation by "
      ]
    },
    {
      "cell_type": "code",
      "metadata": {
        "id": "CI5JtB2Z6AE2"
      },
      "source": [
        "df3 = df3[['gender', 'ssc_p',  'hsc_p' ,  'degree_p','degree_t','workex','etest_p','specialisation','mba_p','salary']]\n",
        "\n",
        "df3 = df3.reset_index()\n",
        "df3 =  df3.drop(columns=['index'])"
      ],
      "execution_count": null,
      "outputs": []
    },
    {
      "cell_type": "code",
      "metadata": {
        "colab": {
          "base_uri": "https://localhost:8080/",
          "height": 206
        },
        "id": "Cy_stI357KKk",
        "outputId": "a39079a6-597c-4f5d-c2ea-712fe287adec"
      },
      "source": [
        "df3.head()\n"
      ],
      "execution_count": null,
      "outputs": [
        {
          "output_type": "execute_result",
          "data": {
            "text/html": [
              "<div>\n",
              "<style scoped>\n",
              "    .dataframe tbody tr th:only-of-type {\n",
              "        vertical-align: middle;\n",
              "    }\n",
              "\n",
              "    .dataframe tbody tr th {\n",
              "        vertical-align: top;\n",
              "    }\n",
              "\n",
              "    .dataframe thead th {\n",
              "        text-align: right;\n",
              "    }\n",
              "</style>\n",
              "<table border=\"1\" class=\"dataframe\">\n",
              "  <thead>\n",
              "    <tr style=\"text-align: right;\">\n",
              "      <th></th>\n",
              "      <th>gender</th>\n",
              "      <th>ssc_p</th>\n",
              "      <th>hsc_p</th>\n",
              "      <th>degree_p</th>\n",
              "      <th>degree_t</th>\n",
              "      <th>workex</th>\n",
              "      <th>etest_p</th>\n",
              "      <th>specialisation</th>\n",
              "      <th>mba_p</th>\n",
              "      <th>salary</th>\n",
              "    </tr>\n",
              "  </thead>\n",
              "  <tbody>\n",
              "    <tr>\n",
              "      <th>0</th>\n",
              "      <td>M</td>\n",
              "      <td>67.00</td>\n",
              "      <td>91.00</td>\n",
              "      <td>58.00</td>\n",
              "      <td>Sci&amp;Tech</td>\n",
              "      <td>No</td>\n",
              "      <td>55.0</td>\n",
              "      <td>Mkt&amp;HR</td>\n",
              "      <td>58.80</td>\n",
              "      <td>270000.0</td>\n",
              "    </tr>\n",
              "    <tr>\n",
              "      <th>1</th>\n",
              "      <td>M</td>\n",
              "      <td>79.33</td>\n",
              "      <td>78.33</td>\n",
              "      <td>77.48</td>\n",
              "      <td>Sci&amp;Tech</td>\n",
              "      <td>Yes</td>\n",
              "      <td>86.5</td>\n",
              "      <td>Mkt&amp;Fin</td>\n",
              "      <td>66.28</td>\n",
              "      <td>200000.0</td>\n",
              "    </tr>\n",
              "    <tr>\n",
              "      <th>2</th>\n",
              "      <td>M</td>\n",
              "      <td>65.00</td>\n",
              "      <td>68.00</td>\n",
              "      <td>64.00</td>\n",
              "      <td>Comm&amp;Mgmt</td>\n",
              "      <td>No</td>\n",
              "      <td>75.0</td>\n",
              "      <td>Mkt&amp;Fin</td>\n",
              "      <td>57.80</td>\n",
              "      <td>250000.0</td>\n",
              "    </tr>\n",
              "    <tr>\n",
              "      <th>3</th>\n",
              "      <td>M</td>\n",
              "      <td>85.80</td>\n",
              "      <td>73.60</td>\n",
              "      <td>73.30</td>\n",
              "      <td>Comm&amp;Mgmt</td>\n",
              "      <td>No</td>\n",
              "      <td>96.8</td>\n",
              "      <td>Mkt&amp;Fin</td>\n",
              "      <td>55.50</td>\n",
              "      <td>425000.0</td>\n",
              "    </tr>\n",
              "    <tr>\n",
              "      <th>4</th>\n",
              "      <td>M</td>\n",
              "      <td>82.00</td>\n",
              "      <td>64.00</td>\n",
              "      <td>66.00</td>\n",
              "      <td>Sci&amp;Tech</td>\n",
              "      <td>Yes</td>\n",
              "      <td>67.0</td>\n",
              "      <td>Mkt&amp;Fin</td>\n",
              "      <td>62.14</td>\n",
              "      <td>252000.0</td>\n",
              "    </tr>\n",
              "  </tbody>\n",
              "</table>\n",
              "</div>"
            ],
            "text/plain": [
              "  gender  ssc_p  hsc_p  degree_p  ... etest_p specialisation  mba_p    salary\n",
              "0      M  67.00  91.00     58.00  ...    55.0         Mkt&HR  58.80  270000.0\n",
              "1      M  79.33  78.33     77.48  ...    86.5        Mkt&Fin  66.28  200000.0\n",
              "2      M  65.00  68.00     64.00  ...    75.0        Mkt&Fin  57.80  250000.0\n",
              "3      M  85.80  73.60     73.30  ...    96.8        Mkt&Fin  55.50  425000.0\n",
              "4      M  82.00  64.00     66.00  ...    67.0        Mkt&Fin  62.14  252000.0\n",
              "\n",
              "[5 rows x 10 columns]"
            ]
          },
          "metadata": {},
          "execution_count": 285
        }
      ]
    },
    {
      "cell_type": "code",
      "metadata": {
        "id": "tcp45OJz8VRq"
      },
      "source": [
        "df3['highs_p'] = (df3['ssc_p'] + df3['hsc_p']) / 2"
      ],
      "execution_count": null,
      "outputs": []
    },
    {
      "cell_type": "code",
      "metadata": {
        "id": "hoisik_77e6z",
        "colab": {
          "base_uri": "https://localhost:8080/",
          "height": 206
        },
        "outputId": "400cd62e-644f-4acd-ff09-344f11e9ed0a"
      },
      "source": [
        "df3.head()"
      ],
      "execution_count": null,
      "outputs": [
        {
          "output_type": "execute_result",
          "data": {
            "text/html": [
              "<div>\n",
              "<style scoped>\n",
              "    .dataframe tbody tr th:only-of-type {\n",
              "        vertical-align: middle;\n",
              "    }\n",
              "\n",
              "    .dataframe tbody tr th {\n",
              "        vertical-align: top;\n",
              "    }\n",
              "\n",
              "    .dataframe thead th {\n",
              "        text-align: right;\n",
              "    }\n",
              "</style>\n",
              "<table border=\"1\" class=\"dataframe\">\n",
              "  <thead>\n",
              "    <tr style=\"text-align: right;\">\n",
              "      <th></th>\n",
              "      <th>gender</th>\n",
              "      <th>ssc_p</th>\n",
              "      <th>hsc_p</th>\n",
              "      <th>degree_p</th>\n",
              "      <th>degree_t</th>\n",
              "      <th>workex</th>\n",
              "      <th>etest_p</th>\n",
              "      <th>specialisation</th>\n",
              "      <th>mba_p</th>\n",
              "      <th>salary</th>\n",
              "      <th>highs_p</th>\n",
              "    </tr>\n",
              "  </thead>\n",
              "  <tbody>\n",
              "    <tr>\n",
              "      <th>0</th>\n",
              "      <td>M</td>\n",
              "      <td>67.00</td>\n",
              "      <td>91.00</td>\n",
              "      <td>58.00</td>\n",
              "      <td>Sci&amp;Tech</td>\n",
              "      <td>No</td>\n",
              "      <td>55.0</td>\n",
              "      <td>Mkt&amp;HR</td>\n",
              "      <td>58.80</td>\n",
              "      <td>270000.0</td>\n",
              "      <td>79.00</td>\n",
              "    </tr>\n",
              "    <tr>\n",
              "      <th>1</th>\n",
              "      <td>M</td>\n",
              "      <td>79.33</td>\n",
              "      <td>78.33</td>\n",
              "      <td>77.48</td>\n",
              "      <td>Sci&amp;Tech</td>\n",
              "      <td>Yes</td>\n",
              "      <td>86.5</td>\n",
              "      <td>Mkt&amp;Fin</td>\n",
              "      <td>66.28</td>\n",
              "      <td>200000.0</td>\n",
              "      <td>78.83</td>\n",
              "    </tr>\n",
              "    <tr>\n",
              "      <th>2</th>\n",
              "      <td>M</td>\n",
              "      <td>65.00</td>\n",
              "      <td>68.00</td>\n",
              "      <td>64.00</td>\n",
              "      <td>Comm&amp;Mgmt</td>\n",
              "      <td>No</td>\n",
              "      <td>75.0</td>\n",
              "      <td>Mkt&amp;Fin</td>\n",
              "      <td>57.80</td>\n",
              "      <td>250000.0</td>\n",
              "      <td>66.50</td>\n",
              "    </tr>\n",
              "    <tr>\n",
              "      <th>3</th>\n",
              "      <td>M</td>\n",
              "      <td>85.80</td>\n",
              "      <td>73.60</td>\n",
              "      <td>73.30</td>\n",
              "      <td>Comm&amp;Mgmt</td>\n",
              "      <td>No</td>\n",
              "      <td>96.8</td>\n",
              "      <td>Mkt&amp;Fin</td>\n",
              "      <td>55.50</td>\n",
              "      <td>425000.0</td>\n",
              "      <td>79.70</td>\n",
              "    </tr>\n",
              "    <tr>\n",
              "      <th>4</th>\n",
              "      <td>M</td>\n",
              "      <td>82.00</td>\n",
              "      <td>64.00</td>\n",
              "      <td>66.00</td>\n",
              "      <td>Sci&amp;Tech</td>\n",
              "      <td>Yes</td>\n",
              "      <td>67.0</td>\n",
              "      <td>Mkt&amp;Fin</td>\n",
              "      <td>62.14</td>\n",
              "      <td>252000.0</td>\n",
              "      <td>73.00</td>\n",
              "    </tr>\n",
              "  </tbody>\n",
              "</table>\n",
              "</div>"
            ],
            "text/plain": [
              "  gender  ssc_p  hsc_p  degree_p  ... specialisation  mba_p    salary highs_p\n",
              "0      M  67.00  91.00     58.00  ...         Mkt&HR  58.80  270000.0   79.00\n",
              "1      M  79.33  78.33     77.48  ...        Mkt&Fin  66.28  200000.0   78.83\n",
              "2      M  65.00  68.00     64.00  ...        Mkt&Fin  57.80  250000.0   66.50\n",
              "3      M  85.80  73.60     73.30  ...        Mkt&Fin  55.50  425000.0   79.70\n",
              "4      M  82.00  64.00     66.00  ...        Mkt&Fin  62.14  252000.0   73.00\n",
              "\n",
              "[5 rows x 11 columns]"
            ]
          },
          "metadata": {},
          "execution_count": 287
        }
      ]
    },
    {
      "cell_type": "code",
      "metadata": {
        "id": "I-HrbCkl-l2Y"
      },
      "source": [
        "df3 = df3.drop(columns=['ssc_p','hsc_p'])"
      ],
      "execution_count": null,
      "outputs": []
    },
    {
      "cell_type": "code",
      "metadata": {
        "colab": {
          "base_uri": "https://localhost:8080/",
          "height": 206
        },
        "id": "1cOfbgyc-sqW",
        "outputId": "cf5136f7-f09e-423d-9dc8-6f16dcb992be"
      },
      "source": [
        "df3.head()"
      ],
      "execution_count": null,
      "outputs": [
        {
          "output_type": "execute_result",
          "data": {
            "text/html": [
              "<div>\n",
              "<style scoped>\n",
              "    .dataframe tbody tr th:only-of-type {\n",
              "        vertical-align: middle;\n",
              "    }\n",
              "\n",
              "    .dataframe tbody tr th {\n",
              "        vertical-align: top;\n",
              "    }\n",
              "\n",
              "    .dataframe thead th {\n",
              "        text-align: right;\n",
              "    }\n",
              "</style>\n",
              "<table border=\"1\" class=\"dataframe\">\n",
              "  <thead>\n",
              "    <tr style=\"text-align: right;\">\n",
              "      <th></th>\n",
              "      <th>gender</th>\n",
              "      <th>degree_p</th>\n",
              "      <th>degree_t</th>\n",
              "      <th>workex</th>\n",
              "      <th>etest_p</th>\n",
              "      <th>specialisation</th>\n",
              "      <th>mba_p</th>\n",
              "      <th>salary</th>\n",
              "      <th>highs_p</th>\n",
              "    </tr>\n",
              "  </thead>\n",
              "  <tbody>\n",
              "    <tr>\n",
              "      <th>0</th>\n",
              "      <td>M</td>\n",
              "      <td>58.00</td>\n",
              "      <td>Sci&amp;Tech</td>\n",
              "      <td>No</td>\n",
              "      <td>55.0</td>\n",
              "      <td>Mkt&amp;HR</td>\n",
              "      <td>58.80</td>\n",
              "      <td>270000.0</td>\n",
              "      <td>79.00</td>\n",
              "    </tr>\n",
              "    <tr>\n",
              "      <th>1</th>\n",
              "      <td>M</td>\n",
              "      <td>77.48</td>\n",
              "      <td>Sci&amp;Tech</td>\n",
              "      <td>Yes</td>\n",
              "      <td>86.5</td>\n",
              "      <td>Mkt&amp;Fin</td>\n",
              "      <td>66.28</td>\n",
              "      <td>200000.0</td>\n",
              "      <td>78.83</td>\n",
              "    </tr>\n",
              "    <tr>\n",
              "      <th>2</th>\n",
              "      <td>M</td>\n",
              "      <td>64.00</td>\n",
              "      <td>Comm&amp;Mgmt</td>\n",
              "      <td>No</td>\n",
              "      <td>75.0</td>\n",
              "      <td>Mkt&amp;Fin</td>\n",
              "      <td>57.80</td>\n",
              "      <td>250000.0</td>\n",
              "      <td>66.50</td>\n",
              "    </tr>\n",
              "    <tr>\n",
              "      <th>3</th>\n",
              "      <td>M</td>\n",
              "      <td>73.30</td>\n",
              "      <td>Comm&amp;Mgmt</td>\n",
              "      <td>No</td>\n",
              "      <td>96.8</td>\n",
              "      <td>Mkt&amp;Fin</td>\n",
              "      <td>55.50</td>\n",
              "      <td>425000.0</td>\n",
              "      <td>79.70</td>\n",
              "    </tr>\n",
              "    <tr>\n",
              "      <th>4</th>\n",
              "      <td>M</td>\n",
              "      <td>66.00</td>\n",
              "      <td>Sci&amp;Tech</td>\n",
              "      <td>Yes</td>\n",
              "      <td>67.0</td>\n",
              "      <td>Mkt&amp;Fin</td>\n",
              "      <td>62.14</td>\n",
              "      <td>252000.0</td>\n",
              "      <td>73.00</td>\n",
              "    </tr>\n",
              "  </tbody>\n",
              "</table>\n",
              "</div>"
            ],
            "text/plain": [
              "  gender  degree_p   degree_t workex  ...  specialisation  mba_p    salary  highs_p\n",
              "0      M     58.00   Sci&Tech     No  ...          Mkt&HR  58.80  270000.0    79.00\n",
              "1      M     77.48   Sci&Tech    Yes  ...         Mkt&Fin  66.28  200000.0    78.83\n",
              "2      M     64.00  Comm&Mgmt     No  ...         Mkt&Fin  57.80  250000.0    66.50\n",
              "3      M     73.30  Comm&Mgmt     No  ...         Mkt&Fin  55.50  425000.0    79.70\n",
              "4      M     66.00   Sci&Tech    Yes  ...         Mkt&Fin  62.14  252000.0    73.00\n",
              "\n",
              "[5 rows x 9 columns]"
            ]
          },
          "metadata": {},
          "execution_count": 289
        }
      ]
    },
    {
      "cell_type": "code",
      "metadata": {
        "colab": {
          "base_uri": "https://localhost:8080/"
        },
        "id": "-zZCwGfuQSmW",
        "outputId": "782ab034-5745-4eed-f9a4-ab923ce04c22"
      },
      "source": [
        "df3.info()"
      ],
      "execution_count": null,
      "outputs": [
        {
          "output_type": "stream",
          "name": "stdout",
          "text": [
            "<class 'pandas.core.frame.DataFrame'>\n",
            "RangeIndex: 148 entries, 0 to 147\n",
            "Data columns (total 9 columns):\n",
            " #   Column          Non-Null Count  Dtype  \n",
            "---  ------          --------------  -----  \n",
            " 0   gender          148 non-null    object \n",
            " 1   degree_p        148 non-null    float64\n",
            " 2   degree_t        148 non-null    object \n",
            " 3   workex          148 non-null    object \n",
            " 4   etest_p         148 non-null    float64\n",
            " 5   specialisation  148 non-null    object \n",
            " 6   mba_p           148 non-null    float64\n",
            " 7   salary          148 non-null    float64\n",
            " 8   highs_p         148 non-null    float64\n",
            "dtypes: float64(5), object(4)\n",
            "memory usage: 10.5+ KB\n"
          ]
        }
      ]
    },
    {
      "cell_type": "code",
      "metadata": {
        "colab": {
          "base_uri": "https://localhost:8080/",
          "height": 350
        },
        "id": "FFPTdzixYCzt",
        "outputId": "fc09c698-ba36-4ded-9d8c-eed4f863ed3a"
      },
      "source": [
        "#salary distrubution:\n",
        "ax = sns.distplot(df3[\"salary\"])\n",
        "ax.set_title(\"Salary Distribution\")\n",
        "ax.grid()\n",
        "plt.show()"
      ],
      "execution_count": null,
      "outputs": [
        {
          "output_type": "stream",
          "name": "stderr",
          "text": [
            "/usr/local/lib/python3.7/dist-packages/seaborn/distributions.py:2619: FutureWarning: `distplot` is a deprecated function and will be removed in a future version. Please adapt your code to use either `displot` (a figure-level function with similar flexibility) or `histplot` (an axes-level function for histograms).\n",
            "  warnings.warn(msg, FutureWarning)\n"
          ]
        },
        {
          "output_type": "display_data",
          "data": {
            "image/png": "[encoded data removed]",
            "text/plain": [
              "<Figure size 432x288 with 1 Axes>"
            ]
          },
          "metadata": {
            "needs_background": "light"
          }
        }
      ]
    },
    {
      "cell_type": "markdown",
      "metadata": {
        "id": "ict00io34o_x"
      },
      "source": [
        "## Data Exploration\n",
        "\n",
        "<font color=\"blue\">\n",
        "Explore the relationship between different variables across datasets. Perform hypothesis tests if necessary. Comment on your resulting figures and findings.\n",
        "\n",
        "This section corresponds to the work you have done in the progress report.\n",
        "</font>"
      ]
    },
    {
      "cell_type": "code",
      "metadata": {
        "colab": {
          "base_uri": "https://localhost:8080/",
          "height": 295
        },
        "id": "mzAt-KsPd0zn",
        "outputId": "a974efdf-aa24-4ba1-f4e3-39dd86ad67b7"
      },
      "source": [
        "ax = sns.boxplot(x=\"specialisation\", y=\"salary\", data=df3[[\"specialisation\",\"salary\"]], palette='Set1',showfliers = False)\n",
        "ax.set_title('Salary Distribution with Specialisation Type')\n",
        "plt.show()\n",
        "\n",
        "# extreme values are not shown in the figure"
      ],
      "execution_count": null,
      "outputs": [
        {
          "output_type": "display_data",
          "data": {
            "image/png": "[encoded data removed]",
            "text/plain": [
              "<Figure size 432x288 with 1 Axes>"
            ]
          },
          "metadata": {
            "needs_background": "light"
          }
        }
      ]
    },
    {
      "cell_type": "markdown",
      "metadata": {
        "id": "D9U7UgQMGN7f"
      },
      "source": [
        "It can be seen from the graph that people who have specialized on marketing & finance get slightly better salaries overall compared to the people who have specialized in marketing & HR"
      ]
    },
    {
      "cell_type": "code",
      "metadata": {
        "colab": {
          "base_uri": "https://localhost:8080/",
          "height": 296
        },
        "id": "H2mpyweQYl-Y",
        "outputId": "30848545-7341-4ac0-831e-60354be0fb7f"
      },
      "source": [
        "ax = sns.violinplot(x=\"degree_t\", y=\"salary\", data=df3[[\"degree_t\",\"salary\"]], palette='Set1')\n",
        "ax.set_title('Salary Distribution with Degree Type')\n",
        "plt.show()"
      ],
      "execution_count": null,
      "outputs": [
        {
          "output_type": "display_data",
          "data": {
            "image/png": "[encoded data removed]",
            "text/plain": [
              "<Figure size 432x288 with 1 Axes>"
            ]
          },
          "metadata": {
            "needs_background": "light"
          }
        }
      ]
    },
    {
      "cell_type": "markdown",
      "metadata": {
        "id": "hNDnKk3LG3Bl"
      },
      "source": [
        "It can be seen from the graph that people who have graduated in the area of science and technology get more salary in average than people who graduated from management or other areas. However it can also be seen from the graph that there are management graduates who get more salary than science and technology graduates."
      ]
    },
    {
      "cell_type": "code",
      "metadata": {
        "colab": {
          "base_uri": "https://localhost:8080/",
          "height": 295
        },
        "id": "f0rgI1_lfhlz",
        "outputId": "83a2d3c6-468e-4dd4-d148-14540669fc55"
      },
      "source": [
        "ax = sns.boxplot(x=\"gender\", y=\"salary\", data=df3[[\"gender\",\"salary\"]], palette='Set1',showfliers = False)\n",
        "ax.set_title('Salary Distribution with Gender Type')\n",
        "plt.show()"
      ],
      "execution_count": null,
      "outputs": [
        {
          "output_type": "display_data",
          "data": {
            "image/png": "[encoded data removed]",
            "text/plain": [
              "<Figure size 432x288 with 1 Axes>"
            ]
          },
          "metadata": {
            "needs_background": "light"
          }
        }
      ]
    },
    {
      "cell_type": "markdown",
      "metadata": {
        "id": "1Pu-Lqq8Pdpj"
      },
      "source": [
        "It can be seen from the graph that females have wider distribution in their salaries compared to males. One can also conclude from the graph that males generally get more salary than females."
      ]
    },
    {
      "cell_type": "code",
      "metadata": {
        "colab": {
          "base_uri": "https://localhost:8080/",
          "height": 295
        },
        "id": "URMThCaaAppv",
        "outputId": "73bc13c7-6839-4210-a6d3-14e548a0af30"
      },
      "source": [
        "ax0 = sns.violinplot(x=\"gender\", y=\"salary\", data=df3[[\"gender\",\"salary\"]], palette='Set1')\n",
        "ax0.set_title('Salary Distribution with gender')\n",
        "plt.show()"
      ],
      "execution_count": null,
      "outputs": [
        {
          "output_type": "display_data",
          "data": {
            "image/png": "[encoded data removed]",
            "text/plain": [
              "<Figure size 432x288 with 1 Axes>"
            ]
          },
          "metadata": {
            "needs_background": "light"
          }
        }
      ]
    },
    {
      "cell_type": "markdown",
      "metadata": {
        "id": "mhzSJHUBRpE8"
      },
      "source": [
        "It can be obtained from the graph above, Salary distribution of males have higher median than females. Also maximum salary for males are also higher than maximum female salaries. "
      ]
    },
    {
      "cell_type": "code",
      "metadata": {
        "colab": {
          "base_uri": "https://localhost:8080/",
          "height": 296
        },
        "id": "_SNBWr_PAyyB",
        "outputId": "aeedba51-c7f4-444b-8f09-6e4467e51dae"
      },
      "source": [
        "ax2 = sns.scatterplot(x=\"highs_p\", y=\"salary\", data=df3[[\"highs_p\",\"salary\"]], palette='Set1')\n",
        "ax2.set_title('Salary Distribution with highs_p')\n",
        "plt.show()"
      ],
      "execution_count": null,
      "outputs": [
        {
          "output_type": "display_data",
          "data": {
            "image/png": "[encoded data removed]",
            "text/plain": [
              "<Figure size 432x288 with 1 Axes>"
            ]
          },
          "metadata": {
            "needs_background": "light"
          }
        }
      ]
    },
    {
      "cell_type": "markdown",
      "metadata": {
        "id": "Gv2bWRfxPX9I"
      },
      "source": [
        "The scatterplot above does not show a clear correlation between salary and high-school grades. The average salary is distributed relatively even amongst people who got grades from 55 to 80. The graph also shows that the person who got the highest grade does not get the highest salary therefore we cannot make any assumptions such as the person who got the lowest grade in high-school will get the lowest salary or vice versa."
      ]
    },
    {
      "cell_type": "code",
      "metadata": {
        "colab": {
          "base_uri": "https://localhost:8080/",
          "height": 296
        },
        "id": "F47Rijp8A7FI",
        "outputId": "ebc4cf27-3875-47a1-c0d5-a15105c04e6c"
      },
      "source": [
        "ax7 = sns.scatterplot(x=\"degree_p\", y=\"salary\", data=df3[[\"degree_p\",\"salary\"]], palette='Set1')\n",
        "ax7.set_title('Salary Distribution with Under Graduate Degree Percentages')\n",
        "#ax7.set(xlim=(45, 100))\n",
        "plt.show()"
      ],
      "execution_count": null,
      "outputs": [
        {
          "output_type": "display_data",
          "data": {
            "image/png": "[encoded data removed]",
            "text/plain": [
              "<Figure size 432x288 with 1 Axes>"
            ]
          },
          "metadata": {
            "needs_background": "light"
          }
        }
      ]
    },
    {
      "cell_type": "markdown",
      "metadata": {
        "id": "BJGe5rHDR3dr"
      },
      "source": [
        "This graph shows the correlation between degree percentages and salaries."
      ]
    },
    {
      "cell_type": "code",
      "metadata": {
        "id": "Qw5IhhuaA9v-",
        "colab": {
          "base_uri": "https://localhost:8080/",
          "height": 296
        },
        "outputId": "3e20fc41-ece8-4d5c-982f-785e74653db4"
      },
      "source": [
        "ax8 = sns.violinplot(x=\"degree_t\", y=\"salary\", data=df3[[\"degree_t\",\"salary\"]], palette='Set1')\n",
        "ax8.set_title('Salary Distribution with Under Graduation Degree Types')\n",
        "plt.show()"
      ],
      "execution_count": null,
      "outputs": [
        {
          "output_type": "display_data",
          "data": {
            "image/png": "[encoded data removed]",
            "text/plain": [
              "<Figure size 432x288 with 1 Axes>"
            ]
          },
          "metadata": {
            "needs_background": "light"
          }
        }
      ]
    },
    {
      "cell_type": "markdown",
      "metadata": {
        "id": "JuduszmCSLD9"
      },
      "source": [
        ""
      ]
    },
    {
      "cell_type": "code",
      "metadata": {
        "id": "fm9VAT9NA_yI",
        "colab": {
          "base_uri": "https://localhost:8080/",
          "height": 295
        },
        "outputId": "15df437f-2d46-40a2-b3b4-edc28325a095"
      },
      "source": [
        "ax9 = sns.violinplot(x=\"workex\", y=\"salary\", data=df3[[\"workex\",\"salary\"]], palette='Set1')\n",
        "ax9.set_title('Salary Distribution with Work Experience')\n",
        "plt.show()\n"
      ],
      "execution_count": null,
      "outputs": [
        {
          "output_type": "display_data",
          "data": {
            "image/png": "[encoded data removed]",
            "text/plain": [
              "<Figure size 432x288 with 1 Axes>"
            ]
          },
          "metadata": {
            "needs_background": "light"
          }
        }
      ]
    },
    {
      "cell_type": "markdown",
      "metadata": {
        "id": "_VNjrD90NVUE"
      },
      "source": [
        "It can be seen that people who have work experience are able to gain higher salaries that their counterparts who have no work experience. "
      ]
    },
    {
      "cell_type": "code",
      "metadata": {
        "id": "E71-XSh8BBy9",
        "colab": {
          "base_uri": "https://localhost:8080/",
          "height": 296
        },
        "outputId": "186f9777-2a29-4d7d-a284-fabbf47954bb"
      },
      "source": [
        "ax10 = sns.scatterplot(x=\"etest_p\", y=\"salary\", data=df3[[\"etest_p\",\"salary\"]], palette='Set1')\n",
        "ax10.set_title('Salary Distribution with Employability test percentage')\n",
        "ax10.set(xlim=(45, 100))\n",
        "ax10.set(ylim=(min(df3['salary'].values)-50000, 600000))\n",
        "plt.show()"
      ],
      "execution_count": null,
      "outputs": [
        {
          "output_type": "display_data",
          "data": {
            "image/png": "[encoded data removed]",
            "text/plain": [
              "<Figure size 432x288 with 1 Axes>"
            ]
          },
          "metadata": {
            "needs_background": "light"
          }
        }
      ]
    },
    {
      "cell_type": "markdown",
      "metadata": {
        "id": "gq-VUWoDJ1gY"
      },
      "source": [
        "Here we can see that the correlation between Employability test results and each individual's current salary. There is a positive correlation between these two parametres, which can be understood that employability tests give clues of an employee's expected salary."
      ]
    },
    {
      "cell_type": "code",
      "metadata": {
        "id": "Vd3Mn2RGBEEW",
        "colab": {
          "base_uri": "https://localhost:8080/",
          "height": 295
        },
        "outputId": "66252690-b346-41f3-fed8-922efda5e6ea"
      },
      "source": [
        "ax11 = sns.violinplot(x=\"specialisation\", y=\"salary\", data=df3[[\"specialisation\",\"salary\"]], palette='Set1')\n",
        "ax11.set_title('Salary Distribution with Specialisation')\n",
        "plt.show()\n"
      ],
      "execution_count": null,
      "outputs": [
        {
          "output_type": "display_data",
          "data": {
            "image/png": "[encoded data removed]",
            "text/plain": [
              "<Figure size 432x288 with 1 Axes>"
            ]
          },
          "metadata": {
            "needs_background": "light"
          }
        }
      ]
    },
    {
      "cell_type": "markdown",
      "metadata": {
        "id": "DhgQmrO2JlcX"
      },
      "source": [
        "The two violin plots show students' specialisation areas after graduating from MBA. Including the extreme values, it is clear that students' who specialised in Finance area are expected to have higher salaries against students who specialized in Human Resources. It is easier to estimate the salary of students who specialized in HR area due to the fact that left plot is more flattened and there are less extreme values."
      ]
    },
    {
      "cell_type": "markdown",
      "metadata": {
        "id": "gWoY8F-v4ZU0"
      },
      "source": [
        "## Machine Learning Models\n",
        "\n",
        "<font color=\"blue\">\n",
        "This is the section that you primarily need work on for the final report. Implement at least two machine learning models so that you can compare them.\n",
        "</font>"
      ]
    },
    {
      "cell_type": "code",
      "metadata": {
        "colab": {
          "base_uri": "https://localhost:8080/",
          "height": 252
        },
        "id": "qSXrEtfHIJiR",
        "outputId": "f4734dce-edd2-432e-ff97-7238895efab6"
      },
      "source": [
        "# bartu\n",
        "length = 148\n",
        "from sklearn import datasets, linear_model\n",
        "x = df.etest_p.values\n",
        "y = df.salary.values\n",
        "x = x.reshape(length, 1)\n",
        "y = y.reshape(length, 1)\n",
        "\n",
        "regr = linear_model.LinearRegression()\n",
        "regr.fit(x, y)\n",
        "\n",
        "plt.scatter(x, y)\n",
        "plt.plot(x, regr.predict(x))\n",
        "plt.xticks(())\n",
        "plt.yticks(())\n",
        "plt.show()"
      ],
      "execution_count": null,
      "outputs": [
        {
          "output_type": "display_data",
          "data": {
            "image/png": "[encoded data removed]",
            "text/plain": [
              "<Figure size 432x288 with 1 Axes>"
            ]
          },
          "metadata": {}
        }
      ]
    },
    {
      "cell_type": "code",
      "metadata": {
        "colab": {
          "base_uri": "https://localhost:8080/"
        },
        "id": "Z5H1GaNyYGO1",
        "outputId": "ff398b4a-acc6-4f40-91d9-c074e1c65ec7"
      },
      "source": [
        "#sarp  bir şeyler denedim de olmadı\n",
        "from sklearn.model_selection import train_test_split\n",
        "from sklearn.linear_model import LinearRegression\n",
        "from sklearn.preprocessing import LabelEncoder\n",
        "\n",
        "\n",
        "encoder=LabelEncoder()\n",
        "\n",
        "for col in df.columns:\n",
        "   if df[col].dtype == 'object':\n",
        "     encoder.fit(df[col])\n",
        "     df[col] = encoder.transform(df[col])\n",
        "\n",
        "Y=df['salary']\n",
        "\n",
        "X=df.drop(['salary','status','sl_no'],axis=1)\n",
        "X=pd.get_dummies(X)\n",
        "\n",
        "\n",
        "# 80% for training and 20% for testing-validation\n",
        "X_train, X_remaining, y_train, y_remaining = train_test_split(X, Y, test_size=0.20, random_state=42)\n",
        "# 10% validation, 10% test\n",
        "X_test, X_val, y_test, y_val = train_test_split(X_remaining, y_remaining, test_size=0.50, random_state=42)\n",
        "\n",
        "\n",
        "\n",
        "lr=LinearRegression()\n",
        "lr.fit(X_train,y_train)\n",
        "\n",
        "print('Linear Regression score is:' + str(lr.score(X_test, y_test)))"
      ],
      "execution_count": null,
      "outputs": [
        {
          "output_type": "stream",
          "name": "stdout",
          "text": [
            "Linear Regression score is:-0.23223003183945923\n"
          ]
        }
      ]
    },
    {
      "cell_type": "markdown",
      "metadata": {
        "id": "67QXh8uI4c9V"
      },
      "source": [
        "### Implementation\n",
        "\n",
        "<font color=\"blue\">\n",
        "Implement and evaluate your models. Perform hyperparameter tunning if necessary. Choose the correct evaluation metrics.\n",
        "</font>"
      ]
    },
    {
      "cell_type": "markdown",
      "metadata": {
        "id": "l4MtFOqW4jdQ"
      },
      "source": [
        "### Results & Discussion\n",
        "\n",
        "<font color=\"blue\">\n",
        "Display and discuss the results of your models. Deploy tables, figures etc. to present your results. Discuss the advantages/disadvantages of models compared to each other.\n",
        "</font>"
      ]
    },
    {
      "cell_type": "markdown",
      "metadata": {
        "id": "L8mRHzGc4SH0"
      },
      "source": [
        "## Conclusion\n",
        "\n",
        "<font color=\"blue\">\n",
        "Briefly evaluate your project. Is your solution applicable? What are the advantages/disadvantages of your solution?\n",
        "</font>\n"
      ]
    },
    {
      "cell_type": "markdown",
      "metadata": {
        "id": "8h0G5RNzuABB"
      },
      "source": [
        "## Future Work\n",
        "\n",
        "<font color=\"blue\">\n",
        "In the progress report, clearly state your goals for the final report.<br>\n",
        "In the final report, articulate on the future directions, scenarios.\n",
        "</font>"
      ]
    },
    {
      "cell_type": "markdown",
      "metadata": {
        "id": "aw-zON5bt0pd"
      },
      "source": [
        "## Work Division\n",
        "\n",
        "\n",
        "\n",
        "<font color=\"blue\">\n",
        "A clear description of the division of work among teammates.\n",
        "</font>"
      ]
    }
  ]
}